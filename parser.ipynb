{
 "metadata": {
  "language_info": {
   "codemirror_mode": {
    "name": "ipython",
    "version": 3
   },
   "file_extension": ".py",
   "mimetype": "text/x-python",
   "name": "python",
   "nbconvert_exporter": "python",
   "pygments_lexer": "ipython3",
   "version": "3.6.9-final"
  },
  "orig_nbformat": 2,
  "kernelspec": {
   "name": "python3",
   "display_name": "Python 3"
  }
 },
 "nbformat": 4,
 "nbformat_minor": 2,
 "cells": [
  {
   "source": [
    "# Parse les données d'apprentissage et de test"
   ],
   "cell_type": "markdown",
   "metadata": {}
  },
  {
   "cell_type": "code",
   "execution_count": 1,
   "metadata": {},
   "outputs": [],
   "source": [
    "import re\n",
    "from xml.dom.minidom import parseString\n",
    "from xml.dom.minidom import parse\n",
    "import xml.etree.ElementTree as et\n",
    "\n",
    "sens_path = \"trial/data/multilingual-all-words.fr.senses\"\n",
    "gold_truth_path = \"trial/keys/keys-bn.fr\"\n",
    "corpus_path = \"trial/data/multilingual-all-words.fr.xml\"\n",
    "\n",
    "output_corpus_file = \"corpus.xml\""
   ]
  },
  {
   "source": [
    "## Parser sur le fichier de sens"
   ],
   "cell_type": "markdown",
   "metadata": {}
  },
  {
   "cell_type": "code",
   "execution_count": 2,
   "metadata": {},
   "outputs": [
    {
     "output_type": "stream",
     "name": "stdout",
     "text": [
      "5 first entries in the BabelNet senses dictionnary\n - trafiquant_de_drogue (2) ['bn:01761518n', 'bn:00028881n']\n - drogue (2) ['bn:00026546n', 'bn:00028872n']\n - semaine (4) ['bn:00080815n', 'bn:00043484n', 'bn:00080821n', 'bn:00080813n']\n - indignation (6) ['bn:00046491n', 'bn:00004087n', 'bn:00004086n', 'bn:01960121n', 'bn:00004085n', 'bn:01328234n']\n - employé (1) ['bn:00030618n']\n"
     ]
    }
   ],
   "source": [
    "def parse_senses_file(file):\n",
    "    \"\"\"Parse the BabelNet senses contained in .senses file given by SemEval\n",
    "    \n",
    "    Parameters\n",
    "    ----------\n",
    "    file: file object\n",
    "        An open .senses file\n",
    "    \n",
    "    Returns\n",
    "    -------\n",
    "    dict\n",
    "        A dictionnary mapping a lemma with it's BabelNet senses\n",
    "    \"\"\"\n",
    "    # BabelNet Sense Dictionnary\n",
    "    # bn_sens_dict[<lemma>] = [<senses>]\n",
    "    bn_sens_dict = {}\n",
    "\n",
    "    # Capture only BabelNet senses in the given senses file\n",
    "    for s in file.readlines():\n",
    "        splitted_line = re.split(\"\\s\", s)\n",
    "        \n",
    "        # Parse and get the lemma\n",
    "        lemma = splitted_line[0].split(\"#\")[0]\n",
    "        \n",
    "        # Parse BabelNet data\n",
    "        bn_num = int(splitted_line[2])\n",
    "        bn_senses = []\n",
    "        if bn_num > 0:\n",
    "            for i in range(bn_num):\n",
    "                bn_senses.append(splitted_line[3+i])\n",
    "        \n",
    "        # Parse WordNet data\n",
    "        #wn_num = int(splitted_line[3+bn_num])\n",
    "        #wn_senses = []\n",
    "        #if wn_num > 0:\n",
    "        #    for i in range(wn_num):\n",
    "        #        wn_senses.append(splitted_line[4+bn_num+i])\n",
    "        \n",
    "        # Parse Wikipedia data \n",
    "        #wiki_num = int(splitted_line[4+bn_num+wn_num])\n",
    "        #wiki_senses = []\n",
    "        #if wiki_num > 0:\n",
    "        #    for i in range(wiki_num):\n",
    "        #        wiki_senses.append(splitted_line[5+bn_num+wn_num+i])\n",
    "\n",
    "        bn_sens_dict[lemma] = bn_senses\n",
    "    \n",
    "    return bn_sens_dict\n",
    "\n",
    "senses_dict = parse_senses_file(open(sens_path))\n",
    "keys = list(senses_dict.keys())\n",
    "print(\"5 first entries in the BabelNet senses dictionnary\")\n",
    "for i in range(5):\n",
    "    print(\" -\", keys[i], \"(%d)\"%(len(senses_dict[keys[i]])), senses_dict[keys[i]])"
   ]
  },
  {
   "source": [
    "## Parser sur le fichier \"gold truth\""
   ],
   "cell_type": "markdown",
   "metadata": {}
  },
  {
   "cell_type": "code",
   "execution_count": 3,
   "metadata": {},
   "outputs": [
    {
     "output_type": "stream",
     "name": "stdout",
     "text": [
      "5 first entries in the BabelNet gold truth dictionnary\n - d001.s001.t001 (1) ['bn:00028885n']\n - d001.s001.t002 (1) ['bn:00050165n']\n - d001.s001.t003 (1) ['bn:00064245n']\n - d001.s002.t001 (1) ['bn:00014710n']\n - d001.s002.t002 (1) ['bn:00048461n']\n"
     ]
    }
   ],
   "source": [
    "def parse_gold_truth(file):\n",
    "    \"\"\"Parse a SemEval gold truth (keys) file\n",
    "    \n",
    "    Parameters\n",
    "    ----------\n",
    "    file: file object\n",
    "        An open file\n",
    "    \n",
    "    Returns\n",
    "    -------\n",
    "    dict\n",
    "        A dictionnary mapping a SemEval ids with their senses (according to the gold truth, an id can be link to multiple senses)\n",
    "    \"\"\"\n",
    "    # BabelNet gold truth of the corpus\n",
    "    bn_gt = {}\n",
    "\n",
    "    for line in file.readlines():\n",
    "        line = line.split()\n",
    "\n",
    "        id = line[1]\n",
    "        senses = []\n",
    "        i = 2\n",
    "        while line[i] != \"!!\":\n",
    "            senses.append(line[i])\n",
    "            i+=1\n",
    "        bn_gt[id] = senses\n",
    "    return bn_gt\n",
    "\n",
    "gt_dict = parse_gold_truth(open(gold_truth_path))\n",
    "keys = list(gt_dict.keys())\n",
    "print(\"5 first entries in the BabelNet gold truth dictionnary\")\n",
    "for i in range(5):\n",
    "    print(\" -\", keys[i], \"(%d)\"%(len(gt_dict[keys[i]])), gt_dict[keys[i]])"
   ]
  },
  {
   "source": [
    "## Parser sur le corpus"
   ],
   "cell_type": "markdown",
   "metadata": {}
  },
  {
   "source": [
    "def parse_corpus_file(file):\n",
    "    \"\"\"Parse a SemEval corpus\n",
    "    \n",
    "    Parameters\n",
    "    ----------\n",
    "    file\n",
    "        Either an open .xml SemEval corpus file or it's path\n",
    "\n",
    "    Returns\n",
    "    -------\n",
    "    str\n",
    "        the sentence, elements are separated by a space\n",
    "    list\n",
    "        a list of tuples containing the SemEval id of the word (dxxx.sxxx.txxx), the index of the lemma in the sentence (index start from 0) and the lemma itself\n",
    "    \"\"\"\n",
    "\n",
    "    DOMTree = parse(file)\n",
    "    corpus = DOMTree.documentElement\n",
    "    \n",
    "    \n",
    "    sentences = []\n",
    "    polysems = []\n",
    "    for s in corpus.getElementsByTagName(\"sentence\"):\n",
    "        idx = 0\n",
    "        sentence = \"\"\n",
    "        polysem = []\n",
    "        for n in s.childNodes:\n",
    "            if n.nodeName == \"wf\":\n",
    "                sentence += n.childNodes[0].data + \" \"\n",
    "                idx += 1\n",
    "            if n.nodeName == \"instance\":\n",
    "                lemma = n.getAttribute(\"lemma\")\n",
    "                id = n.getAttribute(\"id\")\n",
    "                sentence += n.childNodes[0].data + \" \"\n",
    "                polysem.append((id, idx, lemma))\n",
    "                idx += 1\n",
    "        sentences.append(sentence)\n",
    "        polysems.append(polysem)\n",
    "    \n",
    "    return (sentences, polysems)\n",
    "    \n",
    "\n",
    "sentences, polysems = parse_corpus_file(corpus_path)\n",
    "for i in range(5):\n",
    "    print(\"Sentence :\", sentences[i])\n",
    "    print(\"Polysemous words :\", polysems[i])\n",
    "    print()"
   ],
   "cell_type": "code",
   "metadata": {},
   "execution_count": 4,
   "outputs": [
    {
     "output_type": "stream",
     "name": "stdout",
     "text": [
      "Sentence : Nous ne savons pas qui gagnera la guerre_contre_la_drogue en Amérique_Latine , mais nous savons qui est en train de la perdre - la presse . \nPolysemous words : [('d001.s001.t001', 7, 'guerre_contre_la_drogue'), ('d001.s001.t002', 9, 'Amérique_Latine'), ('d001.s001.t003', 23, 'presse')]\n\nSentence : Au cours des six derniers mois , six journalistes ont été tués et 10 ont été enlevés par des trafiquants_de_drogue ou des guérilleros de gauche - souvent il s ’ agit des mêmes personnes - en Colombie . \nPolysemous words : [('d001.s002.t001', 5, 'mois'), ('d001.s002.t002', 8, 'journaliste'), ('d001.s002.t003', 19, 'trafiquant_de_drogue'), ('d001.s002.t004', 22, 'guérillero'), ('d001.s002.t005', 24, 'gauche'), ('d001.s002.t006', 33, 'personne'), ('d001.s002.t007', 36, 'Colombie')]\n\nSentence : Au cours des 12 dernières années , au moins 40 journalistes sont morts là-bas . \nPolysemous words : [('d001.s003.t001', 5, 'année'), ('d001.s003.t002', 10, 'journaliste')]\n\nSentence : Les attaques se sont intensifiées dès que le gouvernement colombien à commencé une répression musclée des trafiquants en août , pour tenter d' empêcher qu ’ ils prennent le contrôle du pays . \nPolysemous words : [('d001.s004.t001', 1, 'attaque'), ('d001.s004.t002', 8, 'gouvernement'), ('d001.s004.t003', 13, 'répression'), ('d001.s004.t004', 16, 'trafiquant'), ('d001.s004.t005', 18, 'août'), ('d001.s004.t006', 29, 'contrôle'), ('d001.s004.t007', 31, 'pays')]\n\nSentence : Le massacre en Colombie a été discuté par 450 rédacteurs et éditeurs de l' Amérique_Latine , des Etats-Unis , des Caraïbes et du Canada qui ont participé à la 45ème Assemblée générale de l' Association interaméricaine de la presse à Monterrey , au Mexique , cette semaine . \nPolysemous words : [('d001.s005.t001', 1, 'massacre'), ('d001.s005.t002', 3, 'Colombie'), ('d001.s005.t003', 9, 'rédacteur'), ('d001.s005.t004', 11, 'éditeur'), ('d001.s005.t005', 14, 'Amérique_Latine'), ('d001.s005.t006', 17, 'Etats-Unis'), ('d001.s005.t007', 20, 'Caraïbes'), ('d001.s005.t008', 23, 'Canada'), ('d001.s005.t009', 38, 'presse'), ('d001.s005.t010', 40, 'Monterrey'), ('d001.s005.t011', 43, 'Mexique')]\n\n"
     ]
    }
   ]
  },
  {
   "cell_type": "code",
   "execution_count": 5,
   "metadata": {
    "tags": []
   },
   "outputs": [],
   "source": [
    "def parse_data(semeval_corpus_path, semeval_gt_path, output_path):\n",
    "    \"\"\"Parse the given SemEval data to a new xml.\n",
    "    All given path has to exist\n",
    "\n",
    "    Parameters\n",
    "    ----------\n",
    "    semeval_corpus_path: str\n",
    "        Path to a SemEval .xml corpus file\n",
    "    semeval_gt_path: str\n",
    "        Path to a SemEval keys fils (related to the previous given one and preferably a BabelNet file : keys-bn)\n",
    "    output_path: str\n",
    "        Path to the output xml file, will contain the newly formated SemEval corpus\n",
    "    \"\"\"\n",
    "\n",
    "    sentences, polysems = parse_corpus_file(semeval_corpus_path)\n",
    "    gt_dict = parse_gold_truth(open(semeval_gt_path))\n",
    "\n",
    "    root = et.Element(\"corpus\")\n",
    "\n",
    "    for i in range(len(sentences)):\n",
    "        sentence = et.SubElement(root, \"sentence\", {\n",
    "            \"id\":str(i), \"s\": sentences[i]\n",
    "        })\n",
    "        for i2, (id, idx, lemma) in enumerate(polysems[i]):\n",
    "            lemma = et.SubElement(sentence, \"lemma\", {\n",
    "                \"id\" : str(i2),\n",
    "                \"idx\" : str(idx), \n",
    "                \"lemma\" : lemma,\n",
    "                \"senses\" : \" \".join(gt_dict[id])\n",
    "            })\n",
    "\n",
    "    with open(output_path, \"wb\") as f:\n",
    "        f.write(parseString(et.tostring(root)).toprettyxml(encoding=\"UTF-8\"))"
   ]
  },
  {
   "cell_type": "code",
   "execution_count": 6,
   "metadata": {},
   "outputs": [
    {
     "output_type": "stream",
     "name": "stdout",
     "text": [
      "<?xml version=\"1.0\" encoding=\"UTF-8\"?>\n\n<corpus>\n\n\t<sentence id=\"0\" s=\"Nous ne savons pas qui gagnera la guerre_contre_la_drogue en Amérique_Latine , mais nous savons qui est en train de la perdre - la presse . \">\n\n\t\t<lemma id=\"0\" idx=\"7\" lemma=\"guerre_contre_la_drogue\" senses=\"bn:00028885n\"/>\n\n\t\t<lemma id=\"1\" idx=\"9\" lemma=\"Amérique_Latine\" senses=\"bn:00050165n\"/>\n\n\t\t<lemma id=\"2\" idx=\"23\" lemma=\"presse\" senses=\"bn:00064245n\"/>\n\n\t</sentence>\n\n\t<sentence id=\"1\" s=\"Au cours des six derniers mois , six journalistes ont été tués et 10 ont été enlevés par des trafiquants_de_drogue ou des guérilleros de gauche - souvent il s ’ agit des mêmes personnes - en Colombie . \">\n\n\t\t<lemma id=\"0\" idx=\"5\" lemma=\"mois\" senses=\"bn:00014710n\"/>\n\n\t\t<lemma id=\"1\" idx=\"8\" lemma=\"journaliste\" senses=\"bn:00048461n\"/>\n\n(...)\n"
     ]
    }
   ],
   "source": [
    "parse_data(corpus_path, gold_truth_path, output_corpus_file)\n",
    "\n",
    "f = open(output_corpus_file)\n",
    "for i in range(10):\n",
    "    print(f.readline())\n",
    "print(\"(...)\")"
   ]
  }
 ]
}